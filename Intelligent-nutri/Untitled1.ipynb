{
 "cells": [
  {
   "cell_type": "code",
   "execution_count": null,
   "id": "e47437cb-33b7-4819-80be-a59dc82f8962",
   "metadata": {},
   "outputs": [
    {
     "name": "stderr",
     "output_type": "stream",
     "text": [
      "Using cache found in C:\\Users\\kille/.cache\\torch\\hub\\ultralytics_yolov5_master\n",
      "WARNING  'ultralytics.yolo.v8' is deprecated since '8.0.136' and will be removed in '8.1.0'. Please use 'ultralytics.models.yolo' instead.\n",
      "WARNING  'ultralytics.yolo.utils' is deprecated since '8.0.136' and will be removed in '8.1.0'. Please use 'ultralytics.utils' instead.\n",
      "Note this warning may be related to loading older models. You can update your model to current structure with:\n",
      "    import torch\n",
      "    ckpt = torch.load(\"model.pt\")  # applies to both official and custom models\n",
      "    torch.save(ckpt, \"updated-model.pt\")\n",
      "\n",
      "YOLOv5  2023-6-12 Python-3.9.13 torch-2.0.1+cpu CPU\n",
      "\n",
      "Fusing layers... \n",
      "Model summary: 157 layers, 7047883 parameters, 0 gradients\n",
      "Adding AutoShape... \n"
     ]
    },
    {
     "name": "stdout",
     "output_type": "stream",
     "text": [
      " * Serving Flask app \"__main__\" (lazy loading)\n",
      " * Environment: production\n",
      "\u001b[31m   WARNING: This is a development server. Do not use it in a production deployment.\u001b[0m\n",
      "\u001b[2m   Use a production WSGI server instead.\u001b[0m\n",
      " * Debug mode: off\n"
     ]
    },
    {
     "name": "stderr",
     "output_type": "stream",
     "text": [
      " * Running on all addresses.\n",
      "   WARNING: This is a development server. Do not use it in a production deployment.\n",
      " * Running on http://172.20.10.3:5001/ (Press CTRL+C to quit)\n",
      "172.20.10.3 - - [03/Aug/2023 15:43:06] \"GET / HTTP/1.1\" 200 -\n",
      "172.20.10.3 - - [03/Aug/2023 15:43:06] \"GET /static/style.css HTTP/1.1\" 404 -\n",
      "172.20.10.3 - - [03/Aug/2023 15:43:06] \"GET /static/pytorch.png HTTP/1.1\" 404 -\n"
     ]
    }
   ],
   "source": [
    "\"\"\"\n",
    "Simple app to upload an image via a web form \n",
    "and view the inference results on the image in the browser.\n",
    "\"\"\"\n",
    "import argparse\n",
    "import io\n",
    "import os\n",
    "from PIL import Image\n",
    "import datetime\n",
    "\n",
    "import torch\n",
    "from flask import Flask, render_template, request, redirect\n",
    "\n",
    "app = Flask(__name__)\n",
    "\n",
    "DATETIME_FORMAT = \"%Y-%m-%d_%H-%M-%S-%f\"\n",
    "\n",
    "\n",
    "@app.route(\"/\", methods=[\"GET\", \"POST\"])\n",
    "def predict():\n",
    "    if request.method == \"POST\":\n",
    "        if \"file\" not in request.files:\n",
    "            return redirect(request.url)\n",
    "        file = request.files[\"file\"]\n",
    "        if not file:\n",
    "            return\n",
    "\n",
    "        img_bytes = file.read()\n",
    "        img = Image.open(io.BytesIO(img_bytes))\n",
    "        results = model([img])\n",
    "\n",
    "        results.render()  # updates results.imgs with boxes and labels\n",
    "        now_time = datetime.datetime.now().strftime(DATETIME_FORMAT)\n",
    "        img_savename = f\"static/{now_time}.png\"\n",
    "        Image.fromarray(results.ims[0]).save(img_savename)\n",
    "        return redirect(img_savename)\n",
    "\n",
    "    return render_template(\"index.html\")\n",
    "\n",
    "\n",
    "if __name__ == \"__main__\":\n",
    "    # parser = argparse.ArgumentParser(description=\"Flask app exposing yolov5 models\")\n",
    "    # parser.add_argument(\"--port\", default=5000, type=int, help=\"port number\")\n",
    "    # args = parser.parse_args()\n",
    "\n",
    "    model = torch.hub.load('ultralytics/yolov5', 'custom', path='food101yv5.pt')  # force_reload = recache latest code\n",
    "    model.eval()\n",
    "    app.run(host=\"0.0.0.0\", port=5001)  # debug=True causes Restarting with stat\n"
   ]
  }
 ],
 "metadata": {
  "kernelspec": {
   "display_name": "Python 3 (ipykernel)",
   "language": "python",
   "name": "python3"
  },
  "language_info": {
   "codemirror_mode": {
    "name": "ipython",
    "version": 3
   },
   "file_extension": ".py",
   "mimetype": "text/x-python",
   "name": "python",
   "nbconvert_exporter": "python",
   "pygments_lexer": "ipython3",
   "version": "3.9.13"
  }
 },
 "nbformat": 4,
 "nbformat_minor": 5
}
