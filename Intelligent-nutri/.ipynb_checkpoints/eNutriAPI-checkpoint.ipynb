{
 "cells": [
  {
   "cell_type": "code",
   "execution_count": null,
   "id": "a9452cfa-3850-44c9-84e0-2ece29819e9b",
   "metadata": {},
   "outputs": [
    {
     "name": "stderr",
     "output_type": "stream",
     "text": [
      "Using cache found in C:\\Users\\kille/.cache\\torch\\hub\\ultralytics_yolov5_master\n",
      "WARNING  'ultralytics.yolo.v8' is deprecated since '8.0.136' and will be removed in '8.1.0'. Please use 'ultralytics.models.yolo' instead.\n",
      "WARNING  'ultralytics.yolo.utils' is deprecated since '8.0.136' and will be removed in '8.1.0'. Please use 'ultralytics.utils' instead.\n",
      "Note this warning may be related to loading older models. You can update your model to current structure with:\n",
      "    import torch\n",
      "    ckpt = torch.load(\"model.pt\")  # applies to both official and custom models\n",
      "    torch.save(ckpt, \"updated-model.pt\")\n",
      "\n",
      "YOLOv5  2023-6-12 Python-3.9.13 torch-2.0.1+cpu CPU\n",
      "\n",
      "Fusing layers... \n",
      "Model summary: 157 layers, 7047883 parameters, 0 gradients\n",
      "Adding AutoShape... \n"
     ]
    },
    {
     "name": "stdout",
     "output_type": "stream",
     "text": [
      " * Serving Flask app \"__main__\" (lazy loading)\n",
      " * Environment: production\n",
      "\u001b[31m   WARNING: This is a development server. Do not use it in a production deployment.\u001b[0m\n",
      "\u001b[2m   Use a production WSGI server instead.\u001b[0m\n",
      " * Debug mode: off\n"
     ]
    },
    {
     "name": "stderr",
     "output_type": "stream",
     "text": [
      " * Running on all addresses.\n",
      "   WARNING: This is a development server. Do not use it in a production deployment.\n",
      " * Running on http://192.168.0.109:5000/ (Press CTRL+C to quit)\n",
      "192.168.0.111 - - [17/Aug/2023 00:18:07] \"POST /yolov5 HTTP/1.1\" 200 -\n"
     ]
    }
   ],
   "source": [
    "import argparse\n",
    "import io\n",
    "from PIL import Image\n",
    "import datetime\n",
    "import os\n",
    "\n",
    "import torch\n",
    "from flask import Flask, request, redirect, jsonify\n",
    "from flask_cors import CORS\n",
    "import json\n",
    "\n",
    "app = Flask(__name__)\n",
    "CORS(app)\n",
    "\n",
    "DETECTION_URL = \"/yolov5\"\n",
    "IMAGE_URL = \"/image\"\n",
    "DATETIME_FORMAT = \"%Y-%m-%d_%H-%M-%S-%f\"\n",
    "file_path = \"/static/test.jpg\"\n",
    "\n",
    "@app.route(DETECTION_URL, methods=[\"POST\"])\n",
    "def predict():\n",
    "    if not request.method == \"POST\":\n",
    "        return\n",
    "    if request.files.get(\"image\"):\n",
    "        image_file = request.files[\"image\"]\n",
    "        image_bytes = image_file.read()\n",
    "        img = Image.open(io.BytesIO(image_bytes))\n",
    "        results = model(img, size=640) # reduce size=320 for faster inference\n",
    "        results.render()\n",
    "        now_time = datetime.datetime.now().strftime(DATETIME_FORMAT)\n",
    "        img_savename = f\"static/{now_time}.png\"\n",
    "        Image.fromarray(results.ims[0]).save(img_savename)\n",
    "        imageUri = json.dumps({\"imageName\": str(img_savename)})\n",
    "        value= results.pandas().xyxy[0].to_json(orient=\"records\")\n",
    "        result =value\n",
    "        # print(result)\n",
    "        # z = json.loads(imageUri)\n",
    "        # print(z)\n",
    "        # z.update(result)\n",
    "        # print(z)\n",
    "        return value\n",
    "    \n",
    "@app.route(IMAGE_URL, methods=[\"GET\"])\n",
    "def getImage():\n",
    "    if not request.method == \"GET\":\n",
    "        return\n",
    "    redirect(request.args[\"imageName\"])\n",
    "    os.remove(file_path)\n",
    "    return\n",
    "\n",
    "if __name__ == \"__main__\":\n",
    "    # parser = argparse.ArgumentParser(description=\"Flask api exposing yolov5 model\")\n",
    "    # parser.add_argument(\"--port\", default=5000, type=int, help=\"port number\")\n",
    "    # parser.add_argument('--model', default='food101yv5', help='model to run, i.e. --model yolov5s')\n",
    "    # args = parser.parse_args()\n",
    "\n",
    "    model = torch.hub.load('ultralytics/yolov5', 'custom', path='food101yv5')\n",
    "    app.run(host=\"0.0.0.0\", port=5000)  # debug=True causes Restarting with stat\n"
   ]
  },
  {
   "cell_type": "code",
   "execution_count": null,
   "id": "300e8ce8-714d-4351-bde3-2929c2283782",
   "metadata": {},
   "outputs": [],
   "source": []
  }
 ],
 "metadata": {
  "kernelspec": {
   "display_name": "Python 3 (ipykernel)",
   "language": "python",
   "name": "python3"
  },
  "language_info": {
   "codemirror_mode": {
    "name": "ipython",
    "version": 3
   },
   "file_extension": ".py",
   "mimetype": "text/x-python",
   "name": "python",
   "nbconvert_exporter": "python",
   "pygments_lexer": "ipython3",
   "version": "3.9.13"
  }
 },
 "nbformat": 4,
 "nbformat_minor": 5
}
